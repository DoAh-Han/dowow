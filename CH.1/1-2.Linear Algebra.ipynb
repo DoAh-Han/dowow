{
 "cells": [
  {
   "attachments": {},
   "cell_type": "markdown",
   "metadata": {},
   "source": [
    "# 선형대수 "
   ]
  },
  {
   "attachments": {},
   "cell_type": "markdown",
   "metadata": {},
   "source": [
    "#### Vector representation of python\n",
    "- Vector를 파이썬으로 표시하는 다양한 방법 존재\n",
    "- 최선의 방법은 없음\n",
    "- 값의 변경 유무, 속성값 유무에 따라 선택할 수 있음\n",
    "- 본 수업에서는 기본적으로 list로 vector 연산 실시 "
   ]
  },
  {
   "cell_type": "code",
   "execution_count": 1,
   "metadata": {},
   "outputs": [
    {
     "name": "stdout",
     "output_type": "stream",
     "text": [
      "[1, 2, 10] (1, 2, 10) {'x': 1, 'y': 2, 'z': 10}\n"
     ]
    }
   ],
   "source": [
    "vector_a = [1,2,10]  # List로 표현했을 경우\n",
    "vector_b = (1,2,10)  # Tuple로 표현했을 경우\n",
    "vector_c = {'x':1, 'y':2, 'z':10}  # dict로 표현했을 경우 \n",
    "\n",
    "print(vector_a, vector_b, vector_c)"
   ]
  },
  {
   "cell_type": "code",
   "execution_count": 2,
   "metadata": {},
   "outputs": [
    {
     "name": "stdout",
     "output_type": "stream",
     "text": [
      "[7, 10]\n"
     ]
    }
   ],
   "source": [
    "## 이런 코드 쓰지마세요 \n",
    "\n",
    "u = [2,2]\n",
    "v = [2,3]\n",
    "z = [3,5]\n",
    "\n",
    "result = []\n",
    "\n",
    "for i in range(len(u)):\n",
    "    result.append(u[i]+v[i]+z[i])\n",
    "\n",
    "print(result)"
   ]
  },
  {
   "cell_type": "code",
   "execution_count": 3,
   "metadata": {},
   "outputs": [
    {
     "name": "stdout",
     "output_type": "stream",
     "text": [
      "[7, 10]\n"
     ]
    }
   ],
   "source": [
    "## zip 을 사용 \n",
    "\n",
    "u = [2,2]\n",
    "v = [2,3]\n",
    "z = [3,5]\n",
    "\n",
    "result = [sum(t) for t in zip(u,v,z)]\n",
    "print(result)"
   ]
  },
  {
   "attachments": {},
   "cell_type": "markdown",
   "metadata": {},
   "source": [
    "- vector 계산 : Scalar-Vector product"
   ]
  },
  {
   "cell_type": "code",
   "execution_count": 4,
   "metadata": {},
   "outputs": [
    {
     "name": "stdout",
     "output_type": "stream",
     "text": [
      "[10, 12, 14]\n"
     ]
    }
   ],
   "source": [
    "# 2([1,2,3] + [4,4,4]) = 2[5,6,7] = [10,12,14]\n",
    "\n",
    "u = [1,2,3]\n",
    "v = [4,4,4] \n",
    "alpha = 2\n",
    "\n",
    "result = [alpha*sum(t) for t in zip(u,v)]\n",
    "print(result)"
   ]
  },
  {
   "attachments": {},
   "cell_type": "markdown",
   "metadata": {},
   "source": [
    "#### Matrix representation of python\n",
    "- Maxtrix 역시 Python으로 표시하는 다양한 방법이 존재 \n",
    "- 특히 dict로 표현할 때는 무궁무진한 방법이 있음\n",
    "- 본 수업에서는 기본적으로 two-dimensional list 형태로 표현함\n",
    "- [[1번째 row], [2번째 row], [3번째 row]] "
   ]
  },
  {
   "cell_type": "code",
   "execution_count": 5,
   "metadata": {},
   "outputs": [],
   "source": [
    "matrix_a = [[3,6],[4,5]]\n",
    "matrix_b = [(3,6),(4,5)]\n",
    "matrix_a = {(0,0):3, (0,1):6, (1,0):4, (1,1):5} "
   ]
  },
  {
   "attachments": {},
   "cell_type": "markdown",
   "metadata": {},
   "source": [
    "- Matrix의 계산 : Matrix addition "
   ]
  },
  {
   "cell_type": "code",
   "execution_count": 6,
   "metadata": {},
   "outputs": [
    {
     "name": "stdout",
     "output_type": "stream",
     "text": [
      "[[8, 14], [10, 12]]\n"
     ]
    }
   ],
   "source": [
    "matrix_a = [[3,6],[4,5]]\n",
    "matrix_b = [[5,8],[6,7]]\n",
    "\n",
    "result = [[sum(row) for row in zip(*t)] for t in zip(matrix_a, matrix_b)]\n",
    "print(result)"
   ]
  },
  {
   "attachments": {},
   "cell_type": "markdown",
   "metadata": {},
   "source": [
    "- Matrix의 계산 : Matrix Transpose "
   ]
  },
  {
   "cell_type": "code",
   "execution_count": 7,
   "metadata": {},
   "outputs": [
    {
     "name": "stdout",
     "output_type": "stream",
     "text": [
      "[[1, 4], [2, 5], [3, 6]]\n"
     ]
    }
   ],
   "source": [
    "# (3,2) 형태를 (2,3)으로 만들기 \n",
    "\n",
    "matrix_a = [[1,2,3],[4,5,6]]\n",
    "result = [[element for element in t] for t in zip(*matrix_a)]\n",
    "\n",
    "print(result)"
   ]
  },
  {
   "attachments": {},
   "cell_type": "markdown",
   "metadata": {},
   "source": [
    "- Matrix의 계산 : Matrix product"
   ]
  },
  {
   "cell_type": "code",
   "execution_count": 9,
   "metadata": {},
   "outputs": [
    {
     "name": "stdout",
     "output_type": "stream",
     "text": [
      "[[5, 8], [5, 6]]\n"
     ]
    }
   ],
   "source": [
    "matrix_a = [[1,1,2],[2,1,1]]    # (3,2)\n",
    "matrix_b = [[1,1],[2,1],[1,3]]  # (2,3)   (3,2)*(2,3)은 (2,2) \n",
    "\n",
    "result = [[sum(a*b for a,b in zip(row_a, column_b))\\\n",
    "           for column_b in zip(*matrix_b)] for row_a in matrix_a]\n",
    "\n",
    "print(result)"
   ]
  },
  {
   "attachments": {},
   "cell_type": "markdown",
   "metadata": {},
   "source": [
    "# Case 실습 1 "
   ]
  },
  {
   "attachments": {},
   "cell_type": "markdown",
   "metadata": {},
   "source": [
    "- 문자를 숫자로 바꾸고, 그걸 벡터로 바꿔서 문자별 유사도를 계산해보자\n",
    "- 문자를 Vector로 - One-hot Encoding\n",
    "    - 하나의 단어를 Vector로 Index로 인식, 단어 존재시 1 없으면 0 \n",
    "    - Bow (Bag of words) : 단어별로 인덱스를 부여해서, 한 문장(또는 문서)의 단어의 개수를 vector로 표현"
   ]
  },
  {
   "attachments": {},
   "cell_type": "markdown",
   "metadata": {},
   "source": [
    "- 유클리디안 거리는 피타고라스처럼 \n",
    "- 문서들끼리 비교할 때는 cosine 거리를 자주 사용 (각도)\n",
    "- 데이터 셋이 적으면 유클리디안도 나쁘진 않지만, 많아질수록 코사인 디스턴스가 나음"
   ]
  },
  {
   "attachments": {},
   "cell_type": "markdown",
   "metadata": {},
   "source": [
    "#### Process\n",
    "- 파일을 불러오기\n",
    "- 파일을 읽어서 단어사전 (corpus) 만들기\n",
    "- 단어별로 Index 만들기\n",
    "- 만들어진 인덱스로 문서별 Bag of words vector 생성\n",
    "- 비교하고자 하는 문서 비교하기\n",
    "- 얼마나 맞는지 측정하기 "
   ]
  },
  {
   "cell_type": "code",
   "execution_count": null,
   "metadata": {},
   "outputs": [],
   "source": []
  },
  {
   "cell_type": "code",
   "execution_count": null,
   "metadata": {},
   "outputs": [],
   "source": []
  },
  {
   "cell_type": "code",
   "execution_count": null,
   "metadata": {},
   "outputs": [],
   "source": []
  },
  {
   "cell_type": "code",
   "execution_count": null,
   "metadata": {},
   "outputs": [],
   "source": []
  },
  {
   "cell_type": "code",
   "execution_count": null,
   "metadata": {},
   "outputs": [],
   "source": []
  }
 ],
 "metadata": {
  "kernelspec": {
   "display_name": "Python 3",
   "language": "python",
   "name": "python3"
  },
  "language_info": {
   "codemirror_mode": {
    "name": "ipython",
    "version": 3
   },
   "file_extension": ".py",
   "mimetype": "text/x-python",
   "name": "python",
   "nbconvert_exporter": "python",
   "pygments_lexer": "ipython3",
   "version": "3.11.3"
  },
  "orig_nbformat": 4
 },
 "nbformat": 4,
 "nbformat_minor": 2
}
