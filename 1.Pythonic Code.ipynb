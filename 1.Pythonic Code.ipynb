{
 "cells": [
  {
   "attachments": {},
   "cell_type": "markdown",
   "metadata": {},
   "source": [
    "## Pythonic Code\n",
    "\n",
    "#### ◽파이썬 스타일의 코딩 기법\n",
    "#### ◽파이썬 특유의 문법을 활용하여 효율적으로 코드를 표현함\n",
    "#### ◽고급 코드를 작성할 수록 더 많이 필요해짐\n",
    "\n",
    "<br>\n",
    "<br>"
   ]
  },
  {
   "attachments": {},
   "cell_type": "markdown",
   "metadata": {},
   "source": [
    "- 여러 단어들을 하나로 붙일 때 일반적으로 다음과 같이 사용 "
   ]
  },
  {
   "cell_type": "code",
   "execution_count": 1,
   "metadata": {},
   "outputs": [],
   "source": [
    "colors = ['red','blue','green','yellow']\n",
    "result = ''\n",
    "\n",
    "for s in colors:\n",
    "    result += s"
   ]
  },
  {
   "cell_type": "code",
   "execution_count": 2,
   "metadata": {},
   "outputs": [
    {
     "data": {
      "text/plain": [
       "'redbluegreenyellow'"
      ]
     },
     "execution_count": 2,
     "metadata": {},
     "output_type": "execute_result"
    }
   ],
   "source": [
    "result"
   ]
  },
  {
   "attachments": {},
   "cell_type": "markdown",
   "metadata": {},
   "source": [
    "- 파이썬에서는 join을 통해 하나로 합칠 수 있음 "
   ]
  },
  {
   "cell_type": "code",
   "execution_count": 3,
   "metadata": {},
   "outputs": [
    {
     "data": {
      "text/plain": [
       "'redbluegreenyellow'"
      ]
     },
     "execution_count": 3,
     "metadata": {},
     "output_type": "execute_result"
    }
   ],
   "source": [
    "colors = ['red','blue','green','yellow']\n",
    "result = ''.join(colors)\n",
    "\n",
    "result"
   ]
  },
  {
   "attachments": {},
   "cell_type": "markdown",
   "metadata": {},
   "source": [
    "## ◽Split & Join\n",
    "## ◽List Comprehension\n",
    "## ◽Enumerate & Zip"
   ]
  },
  {
   "attachments": {},
   "cell_type": "markdown",
   "metadata": {},
   "source": [
    "#### split 함수 \n",
    "- String type의 값을 나눠서 list 형태로 변환 "
   ]
  },
  {
   "cell_type": "code",
   "execution_count": 5,
   "metadata": {},
   "outputs": [
    {
     "name": "stdout",
     "output_type": "stream",
     "text": [
      "['zero', 'one', 'two', 'trhee']\n"
     ]
    }
   ],
   "source": [
    "items = 'zero one two trhee'.split()  # 빈칸을 기준으로 문자열 나누기\n",
    "print(items)"
   ]
  },
  {
   "cell_type": "code",
   "execution_count": 6,
   "metadata": {},
   "outputs": [
    {
     "data": {
      "text/plain": [
       "['python', 'jquery', 'javascript']"
      ]
     },
     "execution_count": 6,
     "metadata": {},
     "output_type": "execute_result"
    }
   ],
   "source": [
    "example = 'python,jquery,javascript'\n",
    "example.split(',')  # ','을 기준으로 문자열 나누기 "
   ]
  },
  {
   "cell_type": "code",
   "execution_count": 7,
   "metadata": {},
   "outputs": [],
   "source": [
    "a,b,c = example.split(',')   # 리스트에 있는 각 값을 a,b,c 변수로 unpacking"
   ]
  },
  {
   "cell_type": "code",
   "execution_count": 8,
   "metadata": {},
   "outputs": [
    {
     "name": "stdout",
     "output_type": "stream",
     "text": [
      "python\n",
      "jquery\n",
      "javascript\n"
     ]
    }
   ],
   "source": [
    "print(a)\n",
    "print(b)\n",
    "print(c)"
   ]
  },
  {
   "cell_type": "code",
   "execution_count": 9,
   "metadata": {},
   "outputs": [],
   "source": [
    "example = 'cs50.gachon.edu'"
   ]
  },
  {
   "cell_type": "code",
   "execution_count": 11,
   "metadata": {},
   "outputs": [],
   "source": [
    "subdomain, domain, tld = example.split('.') # '.'을 기준으로 문자열 나누기 unpacking"
   ]
  },
  {
   "cell_type": "code",
   "execution_count": 13,
   "metadata": {},
   "outputs": [
    {
     "name": "stdout",
     "output_type": "stream",
     "text": [
      "cs50\n",
      "gachon\n",
      "edu\n"
     ]
    }
   ],
   "source": [
    "print(subdomain)\n",
    "print(domain)\n",
    "print(tld)"
   ]
  },
  {
   "attachments": {},
   "cell_type": "markdown",
   "metadata": {},
   "source": [
    "#### join 함수 \n",
    "- String list를 합쳐 하나의 string으로 반환할 때 사용 "
   ]
  },
  {
   "cell_type": "code",
   "execution_count": 15,
   "metadata": {},
   "outputs": [
    {
     "data": {
      "text/plain": [
       "'redbluegreenyellow'"
      ]
     },
     "execution_count": 15,
     "metadata": {},
     "output_type": "execute_result"
    }
   ],
   "source": [
    "colors = ['red','blue','green','yellow']\n",
    "result = ''.join(colors)  # 매개변수로 list 입력 \n",
    "result"
   ]
  },
  {
   "cell_type": "code",
   "execution_count": 16,
   "metadata": {},
   "outputs": [
    {
     "data": {
      "text/plain": [
       "'red blue green yellow'"
      ]
     },
     "execution_count": 16,
     "metadata": {},
     "output_type": "execute_result"
    }
   ],
   "source": [
    "result = ' '.join(colors)  # 연결 시 빈칸 1개로 연결\n",
    "result"
   ]
  },
  {
   "cell_type": "code",
   "execution_count": 17,
   "metadata": {},
   "outputs": [
    {
     "data": {
      "text/plain": [
       "'red, blue, green, yellow'"
      ]
     },
     "execution_count": 17,
     "metadata": {},
     "output_type": "execute_result"
    }
   ],
   "source": [
    "result = ', '.join(colors)  # 연결 시 ', '로 연결\n",
    "result"
   ]
  },
  {
   "cell_type": "code",
   "execution_count": 18,
   "metadata": {},
   "outputs": [
    {
     "data": {
      "text/plain": [
       "'red-blue-green-yellow'"
      ]
     },
     "execution_count": 18,
     "metadata": {},
     "output_type": "execute_result"
    }
   ],
   "source": [
    "result = '-'.join(colors)  # 연결 시 '-'로 연결\n",
    "result"
   ]
  },
  {
   "attachments": {},
   "cell_type": "markdown",
   "metadata": {},
   "source": [
    "#### List comprehension 함수 \n",
    "- 기존 List 사용해서 간단히 다른 List를 만드는 기법\n",
    "- 포괄적인 list, 포함되는 리스트라는 의미로 사용됨\n",
    "- 파이썬에서 가장 많이 사용되는 기법 중 하나 \n",
    "- 일반적으로 for + append 보다 속도가 빠름 "
   ]
  },
  {
   "cell_type": "code",
   "execution_count": 20,
   "metadata": {},
   "outputs": [
    {
     "data": {
      "text/plain": [
       "[0, 1, 2, 3, 4, 5, 6, 7, 8, 9]"
      ]
     },
     "execution_count": 20,
     "metadata": {},
     "output_type": "execute_result"
    }
   ],
   "source": [
    "# 일반적인 for append 방식\n",
    "\n",
    "result = []\n",
    "for i in range(10):\n",
    "    result.append(i)\n",
    "\n",
    "result"
   ]
  },
  {
   "cell_type": "code",
   "execution_count": 22,
   "metadata": {},
   "outputs": [
    {
     "data": {
      "text/plain": [
       "[0, 1, 2, 3, 4, 5, 6, 7, 8, 9]"
      ]
     },
     "execution_count": 22,
     "metadata": {},
     "output_type": "execute_result"
    }
   ],
   "source": [
    "# 파이썬의 list comprehension 방식 \n",
    "\n",
    "result = [i for i in range(10)]  # 변수 지정 후 한 줄로 for문 작성 \n",
    "result"
   ]
  },
  {
   "cell_type": "code",
   "execution_count": 23,
   "metadata": {},
   "outputs": [
    {
     "data": {
      "text/plain": [
       "[0, 2, 4, 6, 8]"
      ]
     },
     "execution_count": 23,
     "metadata": {},
     "output_type": "execute_result"
    }
   ],
   "source": [
    "result = [i for i in range(10) if i % 2 ==0]  # 짝수만 출력하는 필터\n",
    "result"
   ]
  },
  {
   "cell_type": "code",
   "execution_count": 25,
   "metadata": {},
   "outputs": [
    {
     "data": {
      "text/plain": [
       "['hw',\n",
       " 'ho',\n",
       " 'hr',\n",
       " 'hl',\n",
       " 'hd',\n",
       " 'ew',\n",
       " 'eo',\n",
       " 'er',\n",
       " 'el',\n",
       " 'ed',\n",
       " 'lw',\n",
       " 'lo',\n",
       " 'lr',\n",
       " 'll',\n",
       " 'ld',\n",
       " 'lw',\n",
       " 'lo',\n",
       " 'lr',\n",
       " 'll',\n",
       " 'ld',\n",
       " 'ow',\n",
       " 'oo',\n",
       " 'or',\n",
       " 'ol',\n",
       " 'od']"
      ]
     },
     "execution_count": 25,
     "metadata": {},
     "output_type": "execute_result"
    }
   ],
   "source": [
    "# nested for loop 이용해서 1 Dimension 구조 생성 \n",
    "\n",
    "word_1 = 'hello'\n",
    "word_2 = 'world'\n",
    "\n",
    "result = [i+j for i in word_1 for j in word_2]   # for문 안에 for문 넣기\n",
    "result "
   ]
  },
  {
   "cell_type": "code",
   "execution_count": 26,
   "metadata": {},
   "outputs": [
    {
     "data": {
      "text/plain": [
       "['AD', 'AE', 'BD', 'BE', 'BA', 'CD', 'CE', 'CA']"
      ]
     },
     "execution_count": 26,
     "metadata": {},
     "output_type": "execute_result"
    }
   ],
   "source": [
    "case_1 = ['A','B','C']\n",
    "case_2 = ['D','E','A']\n",
    "\n",
    "result = [i+j for i in case_1 for j in case_2 if not (i==j)] # i랑 j가 같으면 list 추가 안함 \n",
    "result"
   ]
  },
  {
   "cell_type": "code",
   "execution_count": 27,
   "metadata": {},
   "outputs": [
    {
     "data": {
      "text/plain": [
       "['AD', 'AE', 'BA', 'BD', 'BE', 'CA', 'CD', 'CE']"
      ]
     },
     "execution_count": 27,
     "metadata": {},
     "output_type": "execute_result"
    }
   ],
   "source": [
    "result.sort()\n",
    "result"
   ]
  },
  {
   "cell_type": "code",
   "execution_count": 29,
   "metadata": {},
   "outputs": [
    {
     "name": "stdout",
     "output_type": "stream",
     "text": [
      "['The', 'quick', 'brown', 'fox', 'jumps', 'over', 'the', 'lazy', 'dog']\n"
     ]
    }
   ],
   "source": [
    "# 빈칸으로 나누어 리스트 만들기 \n",
    "\n",
    "words = 'The quick brown fox jumps over the lazy dog'.split()\n",
    "print(words)"
   ]
  },
  {
   "cell_type": "code",
   "execution_count": 32,
   "metadata": {},
   "outputs": [],
   "source": [
    "# list의 각 element들을 대문자, 소문자, 길이로 변환하여 \n",
    "# two dimension의 list로 변환 \n",
    "\n",
    "stuff = [[w.upper(), w.lower(),len(w)] for w in words] # for문 앞에 [] 를 만들어 줌으로 two dimension 생성 가능"
   ]
  },
  {
   "cell_type": "code",
   "execution_count": 34,
   "metadata": {},
   "outputs": [
    {
     "data": {
      "text/plain": [
       "[['THE', 'the', 3],\n",
       " ['QUICK', 'quick', 5],\n",
       " ['BROWN', 'brown', 5],\n",
       " ['FOX', 'fox', 3],\n",
       " ['JUMPS', 'jumps', 5],\n",
       " ['OVER', 'over', 4],\n",
       " ['THE', 'the', 3],\n",
       " ['LAZY', 'lazy', 4],\n",
       " ['DOG', 'dog', 3]]"
      ]
     },
     "execution_count": 34,
     "metadata": {},
     "output_type": "execute_result"
    }
   ],
   "source": [
    "stuff  # 리스트 element가 [대문자, 소문자, 문자길이] 로 이루어진 list"
   ]
  },
  {
   "cell_type": "code",
   "execution_count": 35,
   "metadata": {},
   "outputs": [
    {
     "name": "stdout",
     "output_type": "stream",
     "text": [
      "['THE', 'the', 3]\n",
      "['QUICK', 'quick', 5]\n",
      "['BROWN', 'brown', 5]\n",
      "['FOX', 'fox', 3]\n",
      "['JUMPS', 'jumps', 5]\n",
      "['OVER', 'over', 4]\n",
      "['THE', 'the', 3]\n",
      "['LAZY', 'lazy', 4]\n",
      "['DOG', 'dog', 3]\n"
     ]
    }
   ],
   "source": [
    "for i in stuff:\n",
    "    print(i)"
   ]
  },
  {
   "cell_type": "code",
   "execution_count": 38,
   "metadata": {},
   "outputs": [
    {
     "name": "stdout",
     "output_type": "stream",
     "text": [
      "['THE', 'the', 3]\n",
      "['QUICK', 'quick', 5]\n",
      "['BROWN', 'brown', 5]\n",
      "['FOX', 'fox', 3]\n",
      "['JUMPS', 'jumps', 5]\n",
      "['OVER', 'over', 4]\n",
      "['THE', 'the', 3]\n",
      "['LAZY', 'lazy', 4]\n",
      "['DOG', 'dog', 3]\n"
     ]
    }
   ],
   "source": [
    "stuff_ele = [print(i) for i in stuff]"
   ]
  },
  {
   "cell_type": "code",
   "execution_count": 41,
   "metadata": {},
   "outputs": [
    {
     "name": "stdout",
     "output_type": "stream",
     "text": [
      "['AD', 'AE', 'AF', 'BD', 'BE', 'BF', 'CD', 'CE', 'CF']\n",
      "[['AD', 'BD', 'CD'], ['AE', 'BE', 'CE'], ['AF', 'BF', 'CF']]\n"
     ]
    }
   ],
   "source": [
    "case_1 = ['A','B','C']\n",
    "case_2 = ['D','E','F']\n",
    "\n",
    "result = [a+b for a in case_1 for b in case_2]\n",
    "print(result)\n",
    "\n",
    "result2 = [[a+b for a in case_1] for b in case_2]  # 뒤에 있는 for문이 고정되어 한 list로 출력\n",
    "print(result2)"
   ]
  },
  {
   "attachments": {},
   "cell_type": "markdown",
   "metadata": {},
   "source": [
    "#### Enumerate  \n",
    "- list의 element를 추출할 때 번호를 붙여서 추출 "
   ]
  },
  {
   "cell_type": "code",
   "execution_count": 42,
   "metadata": {},
   "outputs": [
    {
     "name": "stdout",
     "output_type": "stream",
     "text": [
      "0 tic\n",
      "1 tac\n",
      "2 toe\n"
     ]
    }
   ],
   "source": [
    "for i, v in enumerate(['tic','tac','toe']):\n",
    "    # list의 있는 index와 값을 unpacking\n",
    "    print(i,v)"
   ]
  },
  {
   "attachments": {},
   "cell_type": "markdown",
   "metadata": {},
   "source": [
    "- list에 있는 값을 index 값과 unpacking하여 (,)구조의 리스트로 저장 "
   ]
  },
  {
   "cell_type": "code",
   "execution_count": 44,
   "metadata": {},
   "outputs": [
    {
     "data": {
      "text/plain": [
       "[(0, 'a'), (1, 'b'), (2, 'c'), (3, 'd')]"
      ]
     },
     "execution_count": 44,
     "metadata": {},
     "output_type": "execute_result"
    }
   ],
   "source": [
    "mylist = ['a','b','c','d']\n",
    "list(enumerate(mylist))"
   ]
  },
  {
   "attachments": {},
   "cell_type": "markdown",
   "metadata": {},
   "source": [
    "- 문장을 빈칸으로 split하고 index 값과 unpacking하여 dict으로 저장 "
   ]
  },
  {
   "cell_type": "code",
   "execution_count": 46,
   "metadata": {},
   "outputs": [
    {
     "data": {
      "text/plain": [
       "{0: 'Gachon',\n",
       " 1: 'University',\n",
       " 2: 'is',\n",
       " 3: 'an',\n",
       " 4: 'academic',\n",
       " 5: 'institute',\n",
       " 6: 'located',\n",
       " 7: 'in',\n",
       " 8: 'South',\n",
       " 9: 'Korea'}"
      ]
     },
     "execution_count": 46,
     "metadata": {},
     "output_type": "execute_result"
    }
   ],
   "source": [
    "# 단어들의 위치를 뽑을 때 아래같이 사용하곤 함 \n",
    "\n",
    "{i:j for i,j in enumerate('Gachon University is an academic institute located in South Korea'.split())}"
   ]
  },
  {
   "attachments": {},
   "cell_type": "markdown",
   "metadata": {},
   "source": [
    "#### Zip  \n",
    "- 두 개의 list의 값을 병렬적으로 추출함 "
   ]
  },
  {
   "cell_type": "code",
   "execution_count": 47,
   "metadata": {},
   "outputs": [
    {
     "name": "stdout",
     "output_type": "stream",
     "text": [
      "a1 b1\n",
      "a2 b2\n",
      "a3 b3\n"
     ]
    }
   ],
   "source": [
    "alist = ['a1','a2','a3']\n",
    "blist = ['b1','b2','b3']\n",
    "\n",
    "# 병렬적으로 값을 추출 \n",
    "for a,b in zip(alist, blist):\n",
    "    print(a,b)\n"
   ]
  },
  {
   "cell_type": "code",
   "execution_count": 49,
   "metadata": {},
   "outputs": [
    {
     "data": {
      "text/plain": [
       "((1, 10, 100), (2, 20, 200), (3, 30, 300))"
      ]
     },
     "execution_count": 49,
     "metadata": {},
     "output_type": "execute_result"
    }
   ],
   "source": [
    "# 각 tuple의 같은 index 끼리 묶음 \n",
    "a,b,c = zip((1,2,3),(10,20,30),(100,200,300)) \n",
    "\n",
    "a,b,c"
   ]
  },
  {
   "cell_type": "code",
   "execution_count": 50,
   "metadata": {},
   "outputs": [
    {
     "data": {
      "text/plain": [
       "[111, 222, 333]"
      ]
     },
     "execution_count": 50,
     "metadata": {},
     "output_type": "execute_result"
    }
   ],
   "source": [
    "# 각 tuple의 같은 index를 묶어 합을 list로 변환 \n",
    "# 위에서 zip된 a,b,c를 각각 더한 값이 출력됨 \n",
    "# 벡터를 계산할 때 쉽게 할 수 있음 \n",
    "\n",
    "[sum(x) for x in zip((1,2,3),(10,20,30),(100,200,300))]"
   ]
  },
  {
   "attachments": {},
   "cell_type": "markdown",
   "metadata": {},
   "source": [
    "- Enumerate & Zip"
   ]
  },
  {
   "cell_type": "code",
   "execution_count": 52,
   "metadata": {},
   "outputs": [
    {
     "name": "stdout",
     "output_type": "stream",
     "text": [
      "0 a1 b1\n",
      "1 a2 b2\n",
      "2 a3 b3\n"
     ]
    }
   ],
   "source": [
    "alist = ['a1','a2','a3']\n",
    "blist = ['b1','b2','b3']\n",
    "\n",
    "for i, (a,b) in enumerate(zip(alist,blist)):\n",
    "    print(i,a,b)  # index, alist[index], blist[index] 표시"
   ]
  },
  {
   "attachments": {},
   "cell_type": "markdown",
   "metadata": {},
   "source": [
    "#### Lambda \n",
    "- 함수 이름 없이, 함수처럼 쓸 수 있는 익명함수\n",
    "- 수학의 람다 대수에서 유래함 "
   ]
  },
  {
   "cell_type": "code",
   "execution_count": 54,
   "metadata": {},
   "outputs": [
    {
     "name": "stdout",
     "output_type": "stream",
     "text": [
      "5\n",
      "5\n"
     ]
    }
   ],
   "source": [
    "# 일반적인 방식 \n",
    "\n",
    "def f(x,y):\n",
    "    return x+y \n",
    "print(f(1,4))\n",
    "\n",
    "# Lambda 방식 \n",
    "\n",
    "f = lambda x,y: x+y\n",
    "print(f(1,4))"
   ]
  },
  {
   "cell_type": "code",
   "execution_count": 55,
   "metadata": {},
   "outputs": [
    {
     "name": "stdout",
     "output_type": "stream",
     "text": [
      "5\n"
     ]
    }
   ],
   "source": [
    "f = lambda x,y: x+y\n",
    "print(f(1,4))"
   ]
  },
  {
   "cell_type": "code",
   "execution_count": 56,
   "metadata": {},
   "outputs": [
    {
     "name": "stdout",
     "output_type": "stream",
     "text": [
      "9\n"
     ]
    }
   ],
   "source": [
    "f = lambda x: x**2\n",
    "print(f(3))"
   ]
  },
  {
   "cell_type": "code",
   "execution_count": 57,
   "metadata": {},
   "outputs": [
    {
     "name": "stdout",
     "output_type": "stream",
     "text": [
      "1.5\n"
     ]
    }
   ],
   "source": [
    "f = lambda x: x/2\n",
    "print(f(3))"
   ]
  },
  {
   "cell_type": "code",
   "execution_count": 58,
   "metadata": {},
   "outputs": [
    {
     "name": "stdout",
     "output_type": "stream",
     "text": [
      "6\n"
     ]
    }
   ],
   "source": [
    "# f로 지정하지 않아도 사용할 수 있음 \n",
    "\n",
    "print((lambda x: x+1)(5))"
   ]
  },
  {
   "attachments": {},
   "cell_type": "markdown",
   "metadata": {},
   "source": [
    "#### Map function \n",
    "- Sequence 자료형 각 element에 동일한 function을 적용함 \n",
    "(* sequence 자료형 : list, tuple)\n",
    "- map(fuction_name,list_data) "
   ]
  },
  {
   "cell_type": "code",
   "execution_count": 60,
   "metadata": {},
   "outputs": [
    {
     "name": "stdout",
     "output_type": "stream",
     "text": [
      "[1, 4, 9, 16, 25]\n"
     ]
    }
   ],
   "source": [
    "ex = [1,2,3,4,5]\n",
    "f = lambda x: x**2\n",
    "\n",
    "print(list(map(f,ex)))   # list(map(람다함수, 적용할 리스트))  list 꼭 붙이기"
   ]
  },
  {
   "cell_type": "code",
   "execution_count": 62,
   "metadata": {},
   "outputs": [
    {
     "name": "stdout",
     "output_type": "stream",
     "text": [
      "[2, 4, 6, 8, 10]\n"
     ]
    }
   ],
   "source": [
    "f = lambda x,y : x+y        # lambda 함수의 인자가 2개 \n",
    "print(list(map(f,ex,ex)))   # lambda 함수 인자에 맞춰, 리스트도 2개 입력 "
   ]
  },
  {
   "cell_type": "code",
   "execution_count": 63,
   "metadata": {},
   "outputs": [
    {
     "data": {
      "text/plain": [
       "[1, 4, 3, 16, 5]"
      ]
     },
     "execution_count": 63,
     "metadata": {},
     "output_type": "execute_result"
    }
   ],
   "source": [
    "list(map(lambda x : x**2 if x % 2 == 0 else x, ex)) # lambda에 필터 넣을 때, else 필수"
   ]
  },
  {
   "cell_type": "code",
   "execution_count": 64,
   "metadata": {},
   "outputs": [
    {
     "data": {
      "text/plain": [
       "[1, 4, 9, 16, 25]"
      ]
     },
     "execution_count": 64,
     "metadata": {},
     "output_type": "execute_result"
    }
   ],
   "source": [
    "[value ** 2 for value in ex] "
   ]
  },
  {
   "cell_type": "code",
   "execution_count": 66,
   "metadata": {},
   "outputs": [
    {
     "name": "stdout",
     "output_type": "stream",
     "text": [
      "[2, 4, 6, 8, 10]\n",
      "<map object at 0x0000016E4CC64550>\n"
     ]
    }
   ],
   "source": [
    "ex = [1,2,3,4,5]\n",
    "\n",
    "print(list(map(lambda x : x+x, ex)))\n",
    "print((map(lambda x :x+x, ex)))   # list를 안붙이면 값이 안나오고 형식이 출력됨"
   ]
  },
  {
   "cell_type": "code",
   "execution_count": 68,
   "metadata": {},
   "outputs": [
    {
     "name": "stdout",
     "output_type": "stream",
     "text": [
      "<map object at 0x0000016E4CC6BE20>\n",
      "1\n",
      "4\n",
      "9\n",
      "16\n",
      "25\n"
     ]
    }
   ],
   "source": [
    "# list를 안쓰고 iterater를 만들어서 쓸 수도 있다 \n",
    "\n",
    "f = lambda x : x**2\n",
    "print(map(f,ex))\n",
    "\n",
    "for i in map(f,ex):\n",
    "    print(i)"
   ]
  },
  {
   "attachments": {},
   "cell_type": "markdown",
   "metadata": {},
   "source": []
  },
  {
   "attachments": {},
   "cell_type": "markdown",
   "metadata": {},
   "source": [
    "#### Reduce function \n",
    "- map function과 달리 list에 똑같은 함수를 적용해서 통합"
   ]
  },
  {
   "cell_type": "code",
   "execution_count": 70,
   "metadata": {},
   "outputs": [
    {
     "name": "stdout",
     "output_type": "stream",
     "text": [
      "15\n"
     ]
    }
   ],
   "source": [
    "from functools import reduce\n",
    "\n",
    "print(reduce(lambda x,y: x+y,[1,2,3,4,5]))\n",
    "\n",
    "# 1+2 = 3 \n",
    "# + 3 = 6\n",
    "# + 4 = 10\n",
    "# + 5 = 15    x+y 순서대로 누적 합계 "
   ]
  },
  {
   "cell_type": "code",
   "execution_count": 71,
   "metadata": {},
   "outputs": [
    {
     "data": {
      "text/plain": [
       "120"
      ]
     },
     "execution_count": 71,
     "metadata": {},
     "output_type": "execute_result"
    }
   ],
   "source": [
    "def factorial(n):\n",
    "    return reduce(lambda x,y : x*y, range(1, n+1))  # range에서 순서대로 생성\n",
    "\n",
    "factorial(5)   # 5! = 5*4*3*2*1"
   ]
  },
  {
   "cell_type": "code",
   "execution_count": 72,
   "metadata": {},
   "outputs": [
    {
     "data": {
      "text/plain": [
       "120"
      ]
     },
     "execution_count": 72,
     "metadata": {},
     "output_type": "execute_result"
    }
   ],
   "source": [
    "5*4*3*2*1"
   ]
  },
  {
   "attachments": {},
   "cell_type": "markdown",
   "metadata": {},
   "source": [
    "#### Asterisk \n",
    "- 흔히 알고 있는 * 를 의미함 \n",
    "- 단순 곱셈, 제곱연산, 가변 인자 활용 등 다양하게 사용됨"
   ]
  },
  {
   "cell_type": "code",
   "execution_count": 1,
   "metadata": {},
   "outputs": [
    {
     "name": "stdout",
     "output_type": "stream",
     "text": [
      "1 (2, 3, 4, 5, 6)\n",
      "<class 'tuple'>\n"
     ]
    }
   ],
   "source": [
    "# *args\n",
    "\n",
    "def asterisk_test(a, *args):\n",
    "    print(a,args)\n",
    "    print(type(args))\n",
    "\n",
    "asterisk_test(1,2,3,4,5,6)\n",
    "\n",
    "# 몇개의 인자를 받을 수 있을지 모를 때, *를 사용함 (가변인자)\n",
    "# 가장 앞에 있는 1만 a에 대입되고, 나머지는 args로 tuple로 대입됨 "
   ]
  },
  {
   "cell_type": "code",
   "execution_count": 2,
   "metadata": {},
   "outputs": [
    {
     "name": "stdout",
     "output_type": "stream",
     "text": [
      "1 {'b': 2, 'c': 3, 'd': 4, 'e': 5, 'f': 6}\n",
      "<class 'dict'>\n"
     ]
    }
   ],
   "source": [
    "# **kargs\n",
    "\n",
    "def asterisk_test(a, **kargs):\n",
    "    print(a, kargs)\n",
    "    print(type(kargs))\n",
    "\n",
    "asterisk_test(1, b=2, c=3, d=4, e=5, f=6)\n",
    "\n",
    "# 키워드 인자를 한 번에 넣어줄 때, ** 를 두개 사용 \n",
    "# 키워드 인자는 a=1, b=2와 같은 인자를 뜻함, kargs에 dict타입으로 대입됨 "
   ]
  },
  {
   "attachments": {},
   "cell_type": "markdown",
   "metadata": {},
   "source": [
    "#### Asterisk - unpacking a container\n",
    "- tuple, dict 등 자료형에 들어가 있는 값을 unpacking\n",
    "- 함수의 입력값, zip 등에 유용하게 사용가능"
   ]
  },
  {
   "cell_type": "code",
   "execution_count": null,
   "metadata": {},
   "outputs": [],
   "source": [
    "def asterisk_test(a, *args):\n",
    "    print(a, args[0])   # [0]를 입력안해주면, ((),) 형태로 출력됨 \n",
    "    print(type(args))\n",
    "\n",
    "asterisk_test(1, (2,3,4,5,6)) # 괄호를 넣어서 인수가 1개로 쳐짐"
   ]
  },
  {
   "cell_type": "code",
   "execution_count": 3,
   "metadata": {},
   "outputs": [
    {
     "name": "stdout",
     "output_type": "stream",
     "text": [
      "1 (2, 3, 4, 5, 6)\n",
      "<class 'tuple'>\n"
     ]
    }
   ],
   "source": [
    "def asterisk_test(a, *args):\n",
    "    print(a, args)\n",
    "    print(type(args))\n",
    "\n",
    "asterisk_test(1, *(2,3,4,5,6)) # 괄호를 넣어서 인수가 1개로 쳐짐"
   ]
  },
  {
   "cell_type": "code",
   "execution_count": 5,
   "metadata": {},
   "outputs": [
    {
     "name": "stdout",
     "output_type": "stream",
     "text": [
      "1 2 3 4 5 6\n",
      "<class 'tuple'>\n"
     ]
    }
   ],
   "source": [
    "def asterisk_test(a, args):\n",
    "    print(a, *args)    # unpacking 효과 발휘됨 \n",
    "    print(type(args))\n",
    "\n",
    "asterisk_test(1, (2,3,4,5,6))"
   ]
  },
  {
   "cell_type": "code",
   "execution_count": 16,
   "metadata": {},
   "outputs": [
    {
     "name": "stdout",
     "output_type": "stream",
     "text": [
      "[1, 2] [3, 4] [5, 6]\n",
      "<class 'tuple'>\n",
      "([1, 2], [3, 4], [5, 6])\n",
      "[1, 2] [3, 4] [5, 6]\n"
     ]
    }
   ],
   "source": [
    "a,b,c = ([1,2],[3,4],[5,6])\n",
    "print(a,b,c)               # a,b,c 에 각 인자가 unpacking되어 대입됨\n",
    "\n",
    "data = ([1,2],[3,4],[5,6])\n",
    "print(type(data))  # data의 type은 tuple \n",
    "print(data)        # data 튜플 전체가 출력\n",
    "print(*data)       # data의 각 인자가 unpacking되어 출력 "
   ]
  },
  {
   "cell_type": "code",
   "execution_count": 22,
   "metadata": {},
   "outputs": [
    {
     "name": "stdout",
     "output_type": "stream",
     "text": [
      "10 1 2 3\n"
     ]
    }
   ],
   "source": [
    "def asterisk_test(a,b,c,d,):\n",
    "    print(a,b,c,d)\n",
    "\n",
    "data = {\"b\":1, \"c\":2, \"d\":3}\n",
    "\n",
    "asterisk_test(10, **data)  # asterisk_test의 인자와 동일한 key를 가진 dict의 값을 호출 "
   ]
  },
  {
   "cell_type": "code",
   "execution_count": 23,
   "metadata": {},
   "outputs": [
    {
     "name": "stdout",
     "output_type": "stream",
     "text": [
      "(1, 3, 5)\n",
      "(2, 4, 6)\n"
     ]
    }
   ],
   "source": [
    "for data in zip(*([1,2],[3,4],[5,6])):\n",
    "    print(data)"
   ]
  },
  {
   "cell_type": "code",
   "execution_count": 25,
   "metadata": {},
   "outputs": [
    {
     "name": "stdout",
     "output_type": "stream",
     "text": [
      "(1, 3, 5)\n",
      "(2, 4, 6)\n"
     ]
    }
   ],
   "source": [
    "for data in zip([1,2],[3,4],[5,6]):\n",
    "    print(data)"
   ]
  },
  {
   "cell_type": "code",
   "execution_count": 26,
   "metadata": {},
   "outputs": [
    {
     "name": "stdout",
     "output_type": "stream",
     "text": [
      "([1, 2],)\n",
      "([3, 4],)\n",
      "([5, 6],)\n"
     ]
    }
   ],
   "source": [
    "for data in zip(([1,2],[3,4],[5,6])):\n",
    "    print(data)"
   ]
  },
  {
   "cell_type": "code",
   "execution_count": 31,
   "metadata": {},
   "outputs": [
    {
     "name": "stdout",
     "output_type": "stream",
     "text": [
      "10 3 2 1 56\n"
     ]
    }
   ],
   "source": [
    "def asterisk_test(a,b,c,d,e=0):\n",
    "    print(a,b,c,d,e) \n",
    "\n",
    "data = {\"d\":1, \"c\":2, \"b\":3, \"e\":56}\n",
    "asterisk_test(10, **data)"
   ]
  },
  {
   "attachments": {},
   "cell_type": "markdown",
   "metadata": {},
   "source": [
    "#### Data Structure - Collections\n",
    "- List, Tuple, Dict에 대한 Python Built-in 확장 자료 구조(모듈)\n",
    "- 편의성, 실행 효율 등을 사용자에게 제공함\n",
    "- 아래의 모듈이 존재함\n",
    "\n",
    "- ◽from collections import deque\n",
    "- ◽from collections import Counter\n",
    "- ◽from collections import OrderedDict\n",
    "- ◽from collections import defaultdict\n",
    "- ◽from collections import namedtuple"
   ]
  },
  {
   "attachments": {},
   "cell_type": "markdown",
   "metadata": {},
   "source": [
    "#### deque \n",
    "- Stack과 Queue를 지원하는 모듈\n",
    "- List에 비해 효율적인 자료 저장 방식을 지원함 "
   ]
  },
  {
   "cell_type": "code",
   "execution_count": 33,
   "metadata": {},
   "outputs": [
    {
     "name": "stdout",
     "output_type": "stream",
     "text": [
      "deque([0, 1, 2, 3, 4])\n"
     ]
    }
   ],
   "source": [
    "from collections import deque\n",
    "\n",
    "deque_list = deque()\n",
    "\n",
    "for i in range(5):\n",
    "    deque_list.append(i)\n",
    "\n",
    "print(deque_list)"
   ]
  },
  {
   "cell_type": "code",
   "execution_count": 34,
   "metadata": {},
   "outputs": [
    {
     "name": "stdout",
     "output_type": "stream",
     "text": [
      "deque([10, 0, 1, 2, 3, 4])\n"
     ]
    }
   ],
   "source": [
    "deque_list.appendleft(10)  # 스택에서 왼쪽으로 값이 들어감\n",
    "print(deque_list)"
   ]
  },
  {
   "attachments": {},
   "cell_type": "markdown",
   "metadata": {},
   "source": [
    "- rotate, reverse 등 Linked List의 특성을 지원함\n",
    "- 기존 list 형태의 함수를 모두 지원함 "
   ]
  },
  {
   "cell_type": "code",
   "execution_count": 35,
   "metadata": {},
   "outputs": [
    {
     "name": "stdout",
     "output_type": "stream",
     "text": [
      "deque([3, 4, 10, 0, 1, 2])\n"
     ]
    }
   ],
   "source": [
    "deque_list.rotate(2)\n",
    "print(deque_list)"
   ]
  },
  {
   "cell_type": "code",
   "execution_count": 36,
   "metadata": {},
   "outputs": [
    {
     "name": "stdout",
     "output_type": "stream",
     "text": [
      "deque([1, 2, 3, 4, 10, 0])\n"
     ]
    }
   ],
   "source": [
    "deque_list.rotate(2)\n",
    "print(deque_list)"
   ]
  },
  {
   "cell_type": "code",
   "execution_count": 37,
   "metadata": {},
   "outputs": [
    {
     "name": "stdout",
     "output_type": "stream",
     "text": [
      "deque([1, 2, 3, 4, 10, 0])\n",
      "deque([0, 10, 4, 3, 2, 1])\n"
     ]
    }
   ],
   "source": [
    "print(deque_list)\n",
    "print(deque(reversed(deque_list)))"
   ]
  },
  {
   "cell_type": "code",
   "execution_count": 38,
   "metadata": {},
   "outputs": [
    {
     "name": "stdout",
     "output_type": "stream",
     "text": [
      "deque([1, 2, 3, 4, 10, 0, 5, 6, 7])\n"
     ]
    }
   ],
   "source": [
    "deque_list.extend([5,6,7])\n",
    "print(deque_list)"
   ]
  },
  {
   "cell_type": "code",
   "execution_count": 40,
   "metadata": {},
   "outputs": [
    {
     "name": "stdout",
     "output_type": "stream",
     "text": [
      "deque([7, 6, 5, 7, 6, 5, 1, 2, 3, 4, 10, 0, 5, 6, 7])\n"
     ]
    }
   ],
   "source": [
    "deque_list.extendleft([5,6,7])  # 대입될 때는 왼쪽에 5먼저, 그 다음 6, 7로 실제 값은 765순\n",
    "print(deque_list)"
   ]
  },
  {
   "attachments": {},
   "cell_type": "markdown",
   "metadata": {},
   "source": [
    "- deque 는 기존 list보다 효율적인 자료구조를 제공\n",
    "- 효율적 메모리 구조로 처리 속도 향상 "
   ]
  },
  {
   "cell_type": "code",
   "execution_count": 45,
   "metadata": {},
   "outputs": [
    {
     "name": "stdout",
     "output_type": "stream",
     "text": [
      "2.1875 seconds\n"
     ]
    }
   ],
   "source": [
    "## deque \n",
    "\n",
    "from collections import deque\n",
    "import time\n",
    "\n",
    "start_time = time.process_time()\n",
    "deque_list = deque()\n",
    "\n",
    "#Stack \n",
    "for i in range(10000):\n",
    "    for i in range(10000):\n",
    "        deque_list.append(i)\n",
    "        deque_list.pop()\n",
    "\n",
    "print(time.process_time() - start_time, \"seconds\")"
   ]
  },
  {
   "cell_type": "code",
   "execution_count": 46,
   "metadata": {},
   "outputs": [
    {
     "name": "stdout",
     "output_type": "stream",
     "text": [
      "5.78125 seconds\n"
     ]
    }
   ],
   "source": [
    "## general list \n",
    "\n",
    "import time\n",
    "\n",
    "start_time = time.process_time()\n",
    "just_list = []\n",
    "\n",
    "for i in range(10000):\n",
    "    for i in range(10000):\n",
    "        just_list.append(i)\n",
    "        just_list.pop()\n",
    "\n",
    "print(time.process_time() - start_time, \"seconds\")"
   ]
  },
  {
   "attachments": {},
   "cell_type": "markdown",
   "metadata": {},
   "source": [
    "#### OrderedDict \n",
    "- Dict와 달리, 데이터를 입력한 순서대로 dict를 반환함"
   ]
  },
  {
   "cell_type": "code",
   "execution_count": 48,
   "metadata": {},
   "outputs": [
    {
     "name": "stdout",
     "output_type": "stream",
     "text": [
      "x 100\n",
      "y 200\n",
      "z 300\n",
      "l 500\n"
     ]
    }
   ],
   "source": [
    "from collections import OrderedDict\n",
    "\n",
    "d = {}\n",
    "d['x'] = 100\n",
    "d['y'] = 200\n",
    "d['z'] = 300\n",
    "d['l'] = 500\n",
    "\n",
    "for k,v in d.items():\n",
    "    print(k,v)"
   ]
  },
  {
   "cell_type": "code",
   "execution_count": 49,
   "metadata": {},
   "outputs": [
    {
     "name": "stdout",
     "output_type": "stream",
     "text": [
      "x 100\n",
      "y 200\n",
      "z 300\n",
      "l 500\n"
     ]
    }
   ],
   "source": [
    "d = OrderedDict()\n",
    "d['x'] = 100\n",
    "d['y'] = 200\n",
    "d['z'] = 300\n",
    "d['l'] = 500\n",
    "\n",
    "for k,v in d.items():\n",
    "    print(k,v)"
   ]
  },
  {
   "attachments": {},
   "cell_type": "markdown",
   "metadata": {},
   "source": [
    "- Dict type의 값을, vlaue 또는 key 값으로 정렬할 때 사용 가능 "
   ]
  },
  {
   "cell_type": "code",
   "execution_count": 50,
   "metadata": {},
   "outputs": [
    {
     "name": "stdout",
     "output_type": "stream",
     "text": [
      "l 500\n",
      "x 100\n",
      "y 200\n",
      "z 300\n"
     ]
    }
   ],
   "source": [
    "for k,v in OrderedDict(sorted(d.items(), key=lambda t:t[0])).items():\n",
    "    print(k,v)"
   ]
  },
  {
   "cell_type": "code",
   "execution_count": 51,
   "metadata": {},
   "outputs": [
    {
     "name": "stdout",
     "output_type": "stream",
     "text": [
      "x 100\n",
      "y 200\n",
      "z 300\n",
      "l 500\n"
     ]
    }
   ],
   "source": [
    "for k,v in OrderedDict(sorted(d.items(), key=lambda t:t[1])).items():\n",
    "    print(k,v)"
   ]
  },
  {
   "attachments": {},
   "cell_type": "markdown",
   "metadata": {},
   "source": [
    "#### defalutdict\n",
    "- Dict type의 값에 기본 값을 지정, 신규값 생성시 사용하는 방법 "
   ]
  },
  {
   "cell_type": "code",
   "execution_count": 53,
   "metadata": {},
   "outputs": [
    {
     "ename": "KeyError",
     "evalue": "'first'",
     "output_type": "error",
     "traceback": [
      "\u001b[1;31m---------------------------------------------------------------------------\u001b[0m",
      "\u001b[1;31mKeyError\u001b[0m                                  Traceback (most recent call last)",
      "Cell \u001b[1;32mIn[53], line 2\u001b[0m\n\u001b[0;32m      1\u001b[0m d \u001b[39m=\u001b[39m \u001b[39mdict\u001b[39m()\n\u001b[1;32m----> 2\u001b[0m \u001b[39mprint\u001b[39m(d[\u001b[39m\"\u001b[39;49m\u001b[39mfirst\u001b[39;49m\u001b[39m\"\u001b[39;49m])    \u001b[39m# 기존 dict는 값이 없이 dict를 선언한 뒤, first를 먹이면 에러가 남 \u001b[39;00m\n",
      "\u001b[1;31mKeyError\u001b[0m: 'first'"
     ]
    }
   ],
   "source": [
    "d = dict()\n",
    "print(d[\"first\"])    # 기존 dict는 값이 없이 dict를 선언한 뒤, first를 먹이면 에러가 남 "
   ]
  },
  {
   "cell_type": "code",
   "execution_count": 54,
   "metadata": {},
   "outputs": [
    {
     "name": "stdout",
     "output_type": "stream",
     "text": [
      "0\n"
     ]
    }
   ],
   "source": [
    "from collections import defaultdict\n",
    "d = defaultdict(object)    # default dictionary를 생성 \n",
    "d = defaultdict(lambda: 0) # default 값을 0으로 설정함 \n",
    "\n",
    "print(d['first'])"
   ]
  },
  {
   "cell_type": "code",
   "execution_count": 59,
   "metadata": {},
   "outputs": [
    {
     "name": "stdout",
     "output_type": "stream",
     "text": [
      "['a', 'press', 'release', 'is', 'the', 'quickest', 'and', 'easiest', 'way', 'to', 'get', 'free', 'publicity.', 'if', 'well', 'written,', 'a', 'press', 'release', 'can', 'result', 'in', 'multiple', 'published', 'articles', 'about', 'your', 'firm', 'and', 'its', 'products.', 'and', 'that', 'can', 'mean', 'new', 'prospects', 'contacting', 'you', 'asking', 'you', 'to', 'sell', 'to', 'them.', 'talk', 'about', 'low-hanging', 'fruit!', \"what's\", 'more,', 'press', 'releases', 'are', 'cost', 'effective.', 'if', 'the', 'release', 'results', 'in', 'an', 'article', 'that', '(for', 'instance)', 'appears', 'to', 'recommend', 'your', 'firm', 'or', 'your', 'product,', 'that', 'article', 'is', 'more', 'likely', 'to', 'drive', 'prospects', 'to', 'contact', 'you', 'than', 'a', 'comparable', 'paid', 'advertisement.', 'however,', 'most', 'press', 'releases', 'never', 'accomplish', 'that.', 'most', 'press', 'releases', 'are', 'just', 'spray', 'and', 'pray.', 'nobody', 'reads', 'them,', 'least', 'of', 'all', 'the', 'reporters', 'and', 'editors', 'for', 'whom', \"they're\", 'intended.', 'worst', 'case,', 'a', 'badly-written', 'press', 'release', 'simply', 'makes', 'your', 'firm', 'look', 'clueless', 'and', 'stupid.', 'for', 'example,', 'a', 'while', 'back', 'i', 'received', 'a', 'press', 'release', 'containing', 'the', 'following', 'sentence:', '\"release', '6.0', 'doubles', 'the', 'level', 'of', 'functionality', 'available,', 'providing', 'organizations', 'of', 'all', 'sizes', 'with', 'a', 'fast-to-deploy,', 'highly', 'robust,', 'and', 'easy-to-use', 'solution', 'to', 'better', 'acquire,', 'retain,', 'and', 'serve', 'customers.\"', 'translation:', '\"the', 'new', 'release', 'does', 'more', 'stuff.\"', 'why', 'the', 'extra', 'verbiage?', 'as', 'i', 'explained', 'in', 'the', 'post', '\"why', 'marketers', 'speak', 'biz', 'blab\",', 'the', 'bs', 'words', 'are', 'simply', 'a', 'way', 'to', 'try', 'to', 'make', 'something', 'unimportant', 'seem', 'important.', 'and,', \"let's\", 'face', 'it,', 'a', '6.0', 'release', 'of', 'a', 'product', 'probably', \"isn't\", 'all', 'that', 'important.', 'as', 'a', 'reporter,', 'my', 'immediate', 'response', 'to', 'that', 'press', 'release', 'was', 'that', \"it's\", 'not', 'important', 'because', 'it', 'expended', 'an', 'entire', 'sentence', 'saying', 'absolutely', 'nothing.', 'and', 'i', 'assumed', '(probably', 'rightly)', 'that', 'the', \"company's\", 'marketing', 'team', 'was', 'a', 'bunch', 'of', 'idiots.']\n",
      "{'a': 11, 'press': 7, 'release': 7, 'is': 1, 'the': 8, 'quickest': 0, 'and': 8, 'easiest': 0, 'way': 1, 'to': 9, 'get': 0, 'free': 0, 'publicity.': 0, 'if': 1, 'well': 0, 'written,': 0, 'can': 1, 'result': 0, 'in': 2, 'multiple': 0, 'published': 0, 'articles': 0, 'about': 1, 'your': 3, 'firm': 2, 'its': 0, 'products.': 0, 'that': 6, 'mean': 0, 'new': 1, 'prospects': 1, 'contacting': 0, 'you': 2, 'asking': 0, 'sell': 0, 'them.': 0, 'talk': 0, 'low-hanging': 0, 'fruit!': 0, \"what's\": 0, 'more,': 0, 'releases': 2, 'are': 2, 'cost': 0, 'effective.': 0, 'results': 0, 'an': 1, 'article': 1, '(for': 0, 'instance)': 0, 'appears': 0, 'recommend': 0, 'or': 0, 'product,': 0, 'more': 1, 'likely': 0, 'drive': 0, 'contact': 0, 'than': 0, 'comparable': 0, 'paid': 0, 'advertisement.': 0, 'however,': 0, 'most': 1, 'never': 0, 'accomplish': 0, 'that.': 0, 'just': 0, 'spray': 0, 'pray.': 0, 'nobody': 0, 'reads': 0, 'them,': 0, 'least': 0, 'of': 4, 'all': 2, 'reporters': 0, 'editors': 0, 'for': 1, 'whom': 0, \"they're\": 0, 'intended.': 0, 'worst': 0, 'case,': 0, 'badly-written': 0, 'simply': 1, 'makes': 0, 'look': 0, 'clueless': 0, 'stupid.': 0, 'example,': 0, 'while': 0, 'back': 0, 'i': 2, 'received': 0, 'containing': 0, 'following': 0, 'sentence:': 0, '\"release': 0, '6.0': 1, 'doubles': 0, 'level': 0, 'functionality': 0, 'available,': 0, 'providing': 0, 'organizations': 0, 'sizes': 0, 'with': 0, 'fast-to-deploy,': 0, 'highly': 0, 'robust,': 0, 'easy-to-use': 0, 'solution': 0, 'better': 0, 'acquire,': 0, 'retain,': 0, 'serve': 0, 'customers.\"': 0, 'translation:': 0, '\"the': 0, 'does': 0, 'stuff.\"': 0, 'why': 0, 'extra': 0, 'verbiage?': 0, 'as': 1, 'explained': 0, 'post': 0, '\"why': 0, 'marketers': 0, 'speak': 0, 'biz': 0, 'blab\",': 0, 'bs': 0, 'words': 0, 'try': 0, 'make': 0, 'something': 0, 'unimportant': 0, 'seem': 0, 'important.': 1, 'and,': 0, \"let's\": 0, 'face': 0, 'it,': 0, 'product': 0, 'probably': 0, \"isn't\": 0, 'reporter,': 0, 'my': 0, 'immediate': 0, 'response': 0, 'was': 1, \"it's\": 0, 'not': 0, 'important': 0, 'because': 0, 'it': 0, 'expended': 0, 'entire': 0, 'sentence': 0, 'saying': 0, 'absolutely': 0, 'nothing.': 0, 'assumed': 0, '(probably': 0, 'rightly)': 0, \"company's\": 0, 'marketing': 0, 'team': 0, 'bunch': 0, 'idiots.': 0}\n"
     ]
    }
   ],
   "source": [
    "text = \"\"\"A press release is the quickest and easiest way to get free publicity. If well written, a press release can result in multiple published articles about your firm and its products. And that can mean new prospects contacting you asking you to sell to them. Talk about low-hanging fruit!\n",
    "What's more, press releases are cost effective. If the release results in an article that (for instance) appears to recommend your firm or your product, that article is more likely to drive prospects to contact you than a comparable paid advertisement.\n",
    "However, most press releases never accomplish that. Most press releases are just spray and pray. Nobody reads them, least of all the reporters and editors for whom they're intended. Worst case, a badly-written press release simply makes your firm look clueless and stupid.\n",
    "For example, a while back I received a press release containing the following sentence: \"Release 6.0 doubles the level of functionality available, providing organizations of all sizes with a fast-to-deploy, highly robust, and easy-to-use solution to better acquire, retain, and serve customers.\"\n",
    "Translation: \"The new release does more stuff.\" Why the extra verbiage? As I explained in the post \"Why Marketers Speak Biz Blab\", the BS words are simply a way to try to make something unimportant seem important. And, let's face it, a 6.0 release of a product probably isn't all that important.\n",
    "As a reporter, my immediate response to that press release was that it's not important because it expended an entire sentence saying absolutely nothing. And I assumed (probably rightly) that the company's marketing team was a bunch of idiots.\"\"\".lower().split()\n",
    "\n",
    "print(text)\n",
    "\n",
    "# defaultdict를 사용하지 않는 경우 \n",
    "word_count = {}\n",
    "\n",
    "for word in text:\n",
    "    if word in word_count.keys():\n",
    "        word_count[word] += 1\n",
    "    else:\n",
    "        word_count[word] = 0\n",
    "    \n",
    "print(word_count)"
   ]
  },
  {
   "cell_type": "code",
   "execution_count": 61,
   "metadata": {},
   "outputs": [
    {
     "name": "stdout",
     "output_type": "stream",
     "text": [
      "a 13\n",
      "to 11\n",
      "the 10\n",
      "and 10\n",
      "press 9\n",
      "release 9\n",
      "that 8\n",
      "of 6\n",
      "your 5\n",
      "in 4\n",
      "firm 4\n",
      "you 4\n",
      "releases 4\n",
      "are 4\n",
      "all 4\n",
      "i 4\n",
      "is 3\n",
      "way 3\n",
      "if 3\n",
      "can 3\n",
      "about 3\n",
      "new 3\n",
      "prospects 3\n",
      "an 3\n",
      "article 3\n",
      "more 3\n",
      "most 3\n",
      "for 3\n",
      "simply 3\n",
      "6.0 3\n",
      "as 3\n",
      "important. 3\n",
      "was 3\n",
      "quickest 2\n",
      "easiest 2\n",
      "get 2\n",
      "free 2\n",
      "publicity. 2\n",
      "well 2\n",
      "written, 2\n",
      "result 2\n",
      "multiple 2\n",
      "published 2\n",
      "articles 2\n",
      "its 2\n",
      "products. 2\n",
      "mean 2\n",
      "contacting 2\n",
      "asking 2\n",
      "sell 2\n",
      "them. 2\n",
      "talk 2\n",
      "low-hanging 2\n",
      "fruit! 2\n",
      "what's 2\n",
      "more, 2\n",
      "cost 2\n",
      "effective. 2\n",
      "results 2\n",
      "(for 2\n",
      "instance) 2\n",
      "appears 2\n",
      "recommend 2\n",
      "or 2\n",
      "product, 2\n",
      "likely 2\n",
      "drive 2\n",
      "contact 2\n",
      "than 2\n",
      "comparable 2\n",
      "paid 2\n",
      "advertisement. 2\n",
      "however, 2\n",
      "never 2\n",
      "accomplish 2\n",
      "that. 2\n",
      "just 2\n",
      "spray 2\n",
      "pray. 2\n",
      "nobody 2\n",
      "reads 2\n",
      "them, 2\n",
      "least 2\n",
      "reporters 2\n",
      "editors 2\n",
      "whom 2\n",
      "they're 2\n",
      "intended. 2\n",
      "worst 2\n",
      "case, 2\n",
      "badly-written 2\n",
      "makes 2\n",
      "look 2\n",
      "clueless 2\n",
      "stupid. 2\n",
      "example, 2\n",
      "while 2\n",
      "back 2\n",
      "received 2\n",
      "containing 2\n",
      "following 2\n",
      "sentence: 2\n",
      "\"release 2\n",
      "doubles 2\n",
      "level 2\n",
      "functionality 2\n",
      "available, 2\n",
      "providing 2\n",
      "organizations 2\n",
      "sizes 2\n",
      "with 2\n",
      "fast-to-deploy, 2\n",
      "highly 2\n",
      "robust, 2\n",
      "easy-to-use 2\n",
      "solution 2\n",
      "better 2\n",
      "acquire, 2\n",
      "retain, 2\n",
      "serve 2\n",
      "customers.\" 2\n",
      "translation: 2\n",
      "\"the 2\n",
      "does 2\n",
      "stuff.\" 2\n",
      "why 2\n",
      "extra 2\n",
      "verbiage? 2\n",
      "explained 2\n",
      "post 2\n",
      "\"why 2\n",
      "marketers 2\n",
      "speak 2\n",
      "biz 2\n",
      "blab\", 2\n",
      "bs 2\n",
      "words 2\n",
      "try 2\n",
      "make 2\n",
      "something 2\n",
      "unimportant 2\n",
      "seem 2\n",
      "and, 2\n",
      "let's 2\n",
      "face 2\n",
      "it, 2\n",
      "product 2\n",
      "probably 2\n",
      "isn't 2\n",
      "reporter, 2\n",
      "my 2\n",
      "immediate 2\n",
      "response 2\n",
      "it's 2\n",
      "not 2\n",
      "important 2\n",
      "because 2\n",
      "it 2\n",
      "expended 2\n",
      "entire 2\n",
      "sentence 2\n",
      "saying 2\n",
      "absolutely 2\n",
      "nothing. 2\n",
      "assumed 2\n",
      "(probably 2\n",
      "rightly) 2\n",
      "company's 2\n",
      "marketing 2\n",
      "team 2\n",
      "bunch 2\n",
      "idiots. 2\n"
     ]
    }
   ],
   "source": [
    "word_count = defaultdict(object)   # default dictionary를 생성\n",
    "word_count = defaultdict(lambda:1) # default 값을 1으로 설정함\n",
    "\n",
    "# word에서 text를 가져와서 바로 써버림\n",
    "for word in text:\n",
    "    word_count[word] += 1\n",
    "\n",
    "for i,v in OrderedDict(sorted(word_count.items(), key=lambda t: t[1], reverse=True)).items():\n",
    "    print(i,v)\n",
    "\n",
    "# ordereddict를 사용해서 입력된 순서대로 출력 \n"
   ]
  },
  {
   "attachments": {},
   "cell_type": "markdown",
   "metadata": {},
   "source": [
    "#### Counter\n",
    "- Sequence type의 data element 들의 갯수를 dict 형태로 반환 "
   ]
  },
  {
   "cell_type": "code",
   "execution_count": 62,
   "metadata": {},
   "outputs": [
    {
     "name": "stdout",
     "output_type": "stream",
     "text": [
      "Counter({'a': 3, 'l': 2, 'g': 1, 'h': 1, 'd': 1})\n"
     ]
    }
   ],
   "source": [
    "from collections import Counter\n",
    "\n",
    "c = Counter()\n",
    "c = Counter('gallahad')\n",
    "print(c)"
   ]
  },
  {
   "attachments": {},
   "cell_type": "markdown",
   "metadata": {},
   "source": [
    "- Dict type, keyword parameter 등도 모두 처리 가능 "
   ]
  },
  {
   "cell_type": "code",
   "execution_count": 63,
   "metadata": {},
   "outputs": [
    {
     "name": "stdout",
     "output_type": "stream",
     "text": [
      "Counter({'red': 4, 'blue': 2})\n",
      "['red', 'red', 'red', 'red', 'blue', 'blue']\n"
     ]
    }
   ],
   "source": [
    "c = Counter({'red':4, 'blue':2})\n",
    "print(c)\n",
    "print(list(c.elements()))"
   ]
  },
  {
   "cell_type": "code",
   "execution_count": 64,
   "metadata": {},
   "outputs": [
    {
     "name": "stdout",
     "output_type": "stream",
     "text": [
      "Counter({'dogs': 8, 'cats': 4})\n",
      "['cats', 'cats', 'cats', 'cats', 'dogs', 'dogs', 'dogs', 'dogs', 'dogs', 'dogs', 'dogs', 'dogs']\n"
     ]
    }
   ],
   "source": [
    "c = Counter(cats=4, dogs=8)\n",
    "print(c)\n",
    "print(list(c.elements()))"
   ]
  },
  {
   "attachments": {},
   "cell_type": "markdown",
   "metadata": {},
   "source": [
    "#### namedtuple\n",
    "- Tuple 형태로 Data 구조체를 저장하는 방법\n",
    "- 저장되는 data의 variable을 사전에 지정해서 저장함 "
   ]
  },
  {
   "cell_type": "code",
   "execution_count": 65,
   "metadata": {},
   "outputs": [
    {
     "name": "stdout",
     "output_type": "stream",
     "text": [
      "33\n"
     ]
    }
   ],
   "source": [
    "from collections import namedtuple\n",
    "\n",
    "Point = namedtuple('point', ['x','y'])\n",
    "p = Point(11, y=22)\n",
    "print(p[0]+p[1])"
   ]
  },
  {
   "cell_type": "code",
   "execution_count": 66,
   "metadata": {},
   "outputs": [
    {
     "name": "stdout",
     "output_type": "stream",
     "text": [
      "11 22\n",
      "33\n",
      "point(x=11, y=22)\n"
     ]
    }
   ],
   "source": [
    "x,y=p\n",
    "print(x,y)\n",
    "print(p.x + p.y)\n",
    "print(Point(x=11, y=22))"
   ]
  }
 ],
 "metadata": {
  "kernelspec": {
   "display_name": "Python 3",
   "language": "python",
   "name": "python3"
  },
  "language_info": {
   "codemirror_mode": {
    "name": "ipython",
    "version": 3
   },
   "file_extension": ".py",
   "mimetype": "text/x-python",
   "name": "python",
   "nbconvert_exporter": "python",
   "pygments_lexer": "ipython3",
   "version": "3.11.3"
  },
  "orig_nbformat": 4
 },
 "nbformat": 4,
 "nbformat_minor": 2
}
